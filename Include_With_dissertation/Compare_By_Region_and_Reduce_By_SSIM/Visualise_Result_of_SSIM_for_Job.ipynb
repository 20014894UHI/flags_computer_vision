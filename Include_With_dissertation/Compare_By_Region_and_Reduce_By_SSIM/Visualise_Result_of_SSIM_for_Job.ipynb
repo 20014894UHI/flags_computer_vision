{
 "cells": [
  {
   "cell_type": "code",
   "execution_count": null,
   "id": "fb19f723-194e-4e32-9c3d-d916b36a8f64",
   "metadata": {},
   "outputs": [],
   "source": [
    "# Show if SSIM was effective for a folder / simple indicator based on the spread / step between resulting imagesimport os\n",
    "import os\n",
    "import cv2\n",
    "import matplotlib.pyplot as plt\n",
    "\n",
    "# Function to load images from a folder and sort them numerically\n",
    "def load_images_from_folder(folder_path):\n",
    "    images = []\n",
    "    filenames = [f for f in os.listdir(folder_path) if f.lower().endswith(('.jpg', '.png', '.jpeg'))]\n",
    "    filenames.sort(key=lambda f: int(f.split('_')[-1].split('.')[0]))  # Sort by numeric part of filenames\n",
    "    for filename in filenames:\n",
    "        img = cv2.imread(os.path.join(folder_path, filename))\n",
    "        if img is not None:\n",
    "            images.append(img)\n",
    "    return images, filenames\n",
    "\n",
    "# Function to display images in a single row (one folder at a time)\n",
    "def display_images_in_single_row(folder_path):\n",
    "    # Load images from the folder\n",
    "    images, filenames = load_images_from_folder(folder_path)\n",
    "\n",
    "    # Create a subplot for displaying images in a single row\n",
    "    num_images = len(images)\n",
    "    fig, axes = plt.subplots(1, num_images, figsize=(15, 6))  # One row, number of columns based on images\n",
    "    if num_images == 1:  # If there's only one image, axes is not an array, so we make it iterable\n",
    "        axes = [axes]\n",
    "\n",
    "    # Display images\n",
    "    for i in range(num_images):\n",
    "        axes[i].imshow(cv2.cvtColor(images[i], cv2.COLOR_BGR2RGB))  # Convert BGR to RGB for correct color display\n",
    "        axes[i].set_title(f\"{filenames[i]}\")  # Display the filename\n",
    "        axes[i].axis(\"off\")  # Hide axes to avoid labels\n",
    "\n",
    "    # Adjust layout for better spacing\n",
    "    plt.tight_layout()\n",
    "\n",
    "    # Show the plot\n",
    "    plt.show()\n",
    "\n",
    "\n",
    "folder = 'D:/FlagDetectionDatasets/ExportedDatasetsExtracted/Job_17/obj_train_data'\n",
    "display_images_in_single_row(folder)\n",
    "#folder = 'D:/FlagDetectionDatasets/ExportedDatasetsReduced/Job_17'\n"
   ]
  },
  {
   "cell_type": "code",
   "execution_count": null,
   "id": "06942339-e614-4908-91a6-306e84fd7f00",
   "metadata": {},
   "outputs": [],
   "source": []
  }
 ],
 "metadata": {
  "kernelspec": {
   "display_name": "Python 3 (ipykernel)",
   "language": "python",
   "name": "python3"
  },
  "language_info": {
   "codemirror_mode": {
    "name": "ipython",
    "version": 3
   },
   "file_extension": ".py",
   "mimetype": "text/x-python",
   "name": "python",
   "nbconvert_exporter": "python",
   "pygments_lexer": "ipython3",
   "version": "3.11.7"
  }
 },
 "nbformat": 4,
 "nbformat_minor": 5
}
