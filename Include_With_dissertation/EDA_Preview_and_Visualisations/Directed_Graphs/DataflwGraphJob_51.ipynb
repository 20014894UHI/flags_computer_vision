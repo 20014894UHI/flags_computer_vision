{
 "cells": [
  {
   "cell_type": "code",
   "execution_count": 9,
   "id": "e2e0c6f1-41ff-4bfe-86b8-4634511a059b",
   "metadata": {},
   "outputs": [
    {
     "name": "stdout",
     "output_type": "stream",
     "text": [
      "Flowchart saved as: Sequence_Job51.png\n"
     ]
    }
   ],
   "source": [
    "from graphviz import Digraph\n",
    "\n",
    "# Create a new directed graph\n",
    "dot = Digraph(format='png', engine='dot')\n",
    "\n",
    "# Set global attributes for better visualization\n",
    "dot.attr(dpi='300', rankdir='TB')  # Vertical layout (top-to-bottom)\n",
    "dot.node('A', 'Extracted set [Approx 100k images]', shape='box', style='filled', fillcolor='lightblue')\n",
    "\n",
    "# Add the remaining nodes after removing B and its children\n",
    "dot.node('C_51', 'Job_51 in \"Reduced\" set \\n Green Coast flag coexists with \\n incorrectly hanging red/yellow flag \\n [1595 images/1.3GB]', shape='box', style='filled', fillcolor='lightyellow')\n",
    "dot.edge('A', 'C_51', label='1. Copy \"Extracted\" set to create \"Reduced\" set', fontsize='14', fontcolor='black')\n",
    "dot.node('C_51_illum', 'Folder: Job_51 Illum \\n [1595 images]', shape='box', style='filled', fillcolor='lightyellow')\n",
    "dot.edge('C_51', 'C_51_illum', label=\"2. Images underexposed. \\n Improve illumination \\n Optimise for hsv related processing\", fontsize='14', fontcolor='black')\n",
    "dot.node('C_51_illumA', 'Job_51 Illum \\n Green Coast flag with partially removed red flag', shape='box', style='filled', fillcolor='lightyellow')\n",
    "dot.edge('C_51_illum', 'C_51_illumA', label=\"3. Sequence to remove incorrectly hanging red/yellow flag \\n 3(a) Remove red/yellow flag that does not \\n intersect with Green Coast flag by background fill\", fontsize='14', fontcolor='black')\n",
    "dot.node('C_51_illumB', 'Job_51 Illum \\n Red\\Yellow flag filled, some unsuitable', shape='box', style='filled', fillcolor='lightyellow')\n",
    "dot.edge('C_51_illumA', 'C_51_illumB', label=\" 3(b) Fill Red/Yellow flag remnants \\n where bounding box overlaps \\n with Green Coast flag using HSV thresholds\", fontsize='14', fontcolor='black')\n",
    "dot.node('C_51_illumC', 'Job_51_Processed \\n Green Coast flag only \\n Saved as Reference set \\n [178 images 166MB]', shape='box', style='filled', fillcolor='lightgrey')\n",
    "dot.edge('C_51_illumB', 'C_51_illumC', label=\"4. Save as Reference set\", fontsize='14', fontcolor='black')\n",
    "\n",
    "dot.node('C_51_illumCC', 'Job_51_Processed \\n Green Coast flag \\n Added to \"Selected\" set \\n [178 images 166MB]', shape='box', style='filled', fillcolor='lightgrey')\n",
    "dot.edge('C_51_illumC', 'C_51_illumCC', label=\"5. Copy to 'Selected' set\", fontsize='14', fontcolor='black')\n",
    "dot.node('C_51_illumD', 'Job_51_Processed \\n  set \\n [87 images 81MB]', shape='box', style='filled', fillcolor='lightcoral')\n",
    "dot.edge('C_51_illumCC', 'C_51_illumD', label=\"6. Delete by pattern\", fontsize='14', fontcolor='black')\n",
    "\n",
    "dot.node('C_51_illumE', 'Final Job_51_Processed \\n  set \\n [Final Qty/Ssize]', shape='box', style='filled', fillcolor='lightyellow')\n",
    "dot.edge('C_51_illumD', 'C_51_illumE', label=\"7. Further analysis/Reduction...\", fontsize='14', fontcolor='black')\n",
    "\n",
    "# Ensure S23FilterMerged, S23Merged, and C_51_illumE are on the same rank (side by side)\n",
    "with dot.subgraph() as s:\n",
    "    s.attr(rank='same')\n",
    "    s.node('C_51_illumE')\n",
    "\n",
    "# Render the graph\n",
    "output_file = dot.render('Sequence_Job51', view=True)\n",
    "print(f\"Flowchart saved as: {output_file}\")\n"
   ]
  },
  {
   "cell_type": "code",
   "execution_count": null,
   "id": "b4cb3d00-09ea-4376-a9e6-c9b02ca17d80",
   "metadata": {},
   "outputs": [],
   "source": []
  },
  {
   "cell_type": "code",
   "execution_count": null,
   "id": "a94f3002-94c1-47d5-a608-27ddb489dacd",
   "metadata": {},
   "outputs": [],
   "source": []
  }
 ],
 "metadata": {
  "kernelspec": {
   "display_name": "Python 3 (ipykernel)",
   "language": "python",
   "name": "python3"
  },
  "language_info": {
   "codemirror_mode": {
    "name": "ipython",
    "version": 3
   },
   "file_extension": ".py",
   "mimetype": "text/x-python",
   "name": "python",
   "nbconvert_exporter": "python",
   "pygments_lexer": "ipython3",
   "version": "3.9.20"
  }
 },
 "nbformat": 4,
 "nbformat_minor": 5
}
