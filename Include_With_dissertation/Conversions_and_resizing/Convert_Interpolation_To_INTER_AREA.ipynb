{
 "cells": [
  {
   "cell_type": "code",
   "execution_count": null,
   "id": "c044a3f6-a848-4680-957e-088bcae1d7dd",
   "metadata": {},
   "outputs": [],
   "source": [
    "# Preprocessing \n",
    "# Change Interpolation to INTER_AREA without resizing \n",
    "# IN PLACE moification\n",
    "# Changes inerpolation only. Does not resize (by default)\n",
    "\n",
    "import cv2\n",
    "import os\n",
    "import numpy as np\n",
    "\n",
    "parent_dir = \"D:/FlagDetectionDatasets/ExportedDatasetsSelectedML\"\n",
    "print(\"Off we go : )\")\n",
    "for root, dirs, files in os.walk(parent_dir):\n",
    "    for filename in files:\n",
    "        if filename.lower().endswith(('.png', '.jpg', '.jpeg')):\n",
    "            img_path = os.path.join(root, filename)  # Full path to the image\n",
    "            img = cv2.imread(img_path)\n",
    "            if img is not None:\n",
    "                height, width = img.shape[:2]\n",
    "                # \"Resize\" image with INTER_AREA interpolation, keeping original size\n",
    "                resized_img = cv2.resize(img, (width, height), interpolation=cv2.INTER_AREA)\n",
    "                # Save the with the same filename, overwriting the original\n",
    "                cv2.imwrite(img_path, resized_img)  # Overwrite in-place\n",
    "                #print(f\"Processed and saved: {img_path}\")\n",
    "            else:\n",
    "                print(f\"Failed to read image: {img_path}\")\n",
    "print(\"Resizing completed using INTER_AREA interpolation (in-place).\")\n"
   ]
  }
 ],
 "metadata": {
  "kernelspec": {
   "display_name": "Python 3 (ipykernel)",
   "language": "python",
   "name": "python3"
  },
  "language_info": {
   "codemirror_mode": {
    "name": "ipython",
    "version": 3
   },
   "file_extension": ".py",
   "mimetype": "text/x-python",
   "name": "python",
   "nbconvert_exporter": "python",
   "pygments_lexer": "ipython3",
   "version": "3.9.20"
  }
 },
 "nbformat": 4,
 "nbformat_minor": 5
}
