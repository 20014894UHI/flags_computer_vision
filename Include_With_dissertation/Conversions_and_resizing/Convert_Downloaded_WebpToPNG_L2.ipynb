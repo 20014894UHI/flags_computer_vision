{
 "cells": [
  {
   "cell_type": "code",
   "execution_count": 1,
   "id": "83cd0987-13c9-486a-b9cb-d57f6670ca18",
   "metadata": {
    "scrolled": true
   },
   "outputs": [
    {
     "name": "stdout",
     "output_type": "stream",
     "text": [
      "Converted 'red-yellow-warning-flag-beach-ballybunion-ireland-wild-atlantic-way-72054744.webp' to 'D:\\FlagDetectionDatasets\\ExportedTaskDatasetsZips\\Job_154\\obj_train_data\\red-yellow-warning-flag-beach-ballybunion-ireland-wild-atlantic-way-72054744.png'\n",
      "Deleted original 'red-yellow-warning-flag-beach-ballybunion-ireland-wild-atlantic-way-72054744.webp'\n",
      "Converted 'life-saving-flag-2802437.webp' to 'D:\\FlagDetectionDatasets\\ExportedTaskDatasetsZips\\Job_154\\obj_train_data\\life-saving-flag-2802437.png'\n",
      "Deleted original 'life-saving-flag-2802437.webp'\n",
      "Converted 'blue-flag-beach.webp' to 'D:\\FlagDetectionDatasets\\ExportedTaskDatasetsZips\\Job_154\\obj_train_data\\blue-flag-beach.png'\n",
      "Deleted original 'blue-flag-beach.webp'\n",
      "Converted 'Red-flag-on-a-beach.jpg.webp' to 'D:\\FlagDetectionDatasets\\ExportedTaskDatasetsZips\\Job_154\\obj_train_data\\Red-flag-on-a-beach.jpg.png'\n",
      "Deleted original 'Red-flag-on-a-beach.jpg.webp'\n",
      "Converted 'beach-low-tide-swimming-safety-260nw-714355687.webp' to 'D:\\FlagDetectionDatasets\\ExportedTaskDatasetsZips\\Job_154\\obj_train_data\\beach-low-tide-swimming-safety-260nw-714355687.png'\n",
      "Deleted original 'beach-low-tide-swimming-safety-260nw-714355687.webp'\n",
      "Converted 'blue-flag-swimming-beach-sky-clean-sfe-46422354.webp' to 'D:\\FlagDetectionDatasets\\ExportedTaskDatasetsZips\\Job_154\\obj_train_data\\blue-flag-swimming-beach-sky-clean-sfe-46422354.png'\n",
      "Deleted original 'blue-flag-swimming-beach-sky-clean-sfe-46422354.webp'\n",
      "Converted 'beach-flags-on-australian-red-600w-707050852.webp' to 'D:\\FlagDetectionDatasets\\ExportedTaskDatasetsZips\\Job_154\\obj_train_data\\beach-flags-on-australian-red-600w-707050852.png'\n",
      "Deleted original 'beach-flags-on-australian-red-600w-707050852.webp'\n",
      "Converted 'greece-beaches-blue-flag-beaches-1-1280.webp' to 'D:\\FlagDetectionDatasets\\ExportedTaskDatasetsZips\\Job_154\\obj_train_data\\greece-beaches-blue-flag-beaches-1-1280.png'\n",
      "Deleted original 'greece-beaches-blue-flag-beaches-1-1280.webp'\n",
      "Converted 'istos-1-e1564218366448.webp' to 'D:\\FlagDetectionDatasets\\ExportedTaskDatasetsZips\\Job_154\\obj_train_data\\istos-1-e1564218366448.png'\n",
      "Deleted original 'istos-1-e1564218366448.webp'\n",
      "Converted 'beach-warning-flag-7530932.webp' to 'D:\\FlagDetectionDatasets\\ExportedTaskDatasetsZips\\Job_154\\obj_train_data\\beach-warning-flag-7530932.png'\n",
      "Deleted original 'beach-warning-flag-7530932.webp'\n",
      "Converted 'Safe_to_swim_-_geograph.org_.uk_-_560441.webp' to 'D:\\FlagDetectionDatasets\\ExportedTaskDatasetsZips\\Job_154\\obj_train_data\\Safe_to_swim_-_geograph.org_.uk_-_560441.png'\n",
      "Deleted original 'Safe_to_swim_-_geograph.org_.uk_-_560441.webp'\n",
      "Converted 'red-yellow-flag-beach-concept-safety-life-121070331.webp' to 'D:\\FlagDetectionDatasets\\ExportedTaskDatasetsZips\\Job_154\\obj_train_data\\red-yellow-flag-beach-concept-safety-life-121070331.png'\n",
      "Deleted original 'red-yellow-flag-beach-concept-safety-life-121070331.webp'\n",
      "Converted 'red-flag-flying-wind-on-260nw-740845552.webp' to 'D:\\FlagDetectionDatasets\\ExportedTaskDatasetsZips\\Job_154\\obj_train_data\\red-flag-flying-wind-on-260nw-740845552.png'\n",
      "Deleted original 'red-flag-flying-wind-on-260nw-740845552.webp'\n",
      "Converted '7530296484_7b09531db1.webp' to 'D:\\FlagDetectionDatasets\\ExportedTaskDatasetsZips\\Job_154\\obj_train_data\\7530296484_7b09531db1.png'\n",
      "Deleted original '7530296484_7b09531db1.webp'\n",
      "Converted 'bandiera-blu.webp' to 'D:\\FlagDetectionDatasets\\ExportedTaskDatasetsZips\\Job_154\\obj_train_data\\bandiera-blu.png'\n",
      "Deleted original 'bandiera-blu.webp'\n",
      "Converted 'tropical-beach-red-yellow-flag-tropical-beach-red-yellow-flag-sri-lanka-169205969.webp' to 'D:\\FlagDetectionDatasets\\ExportedTaskDatasetsZips\\Job_154\\obj_train_data\\tropical-beach-red-yellow-flag-tropical-beach-red-yellow-flag-sri-lanka-169205969.png'\n",
      "Deleted original 'tropical-beach-red-yellow-flag-tropical-beach-red-yellow-flag-sri-lanka-169205969.webp'\n",
      "Converted 'beach-safety-6857090.webp' to 'D:\\FlagDetectionDatasets\\ExportedTaskDatasetsZips\\Job_154\\obj_train_data\\beach-safety-6857090.png'\n",
      "Deleted original 'beach-safety-6857090.webp'\n",
      "Converted 'red-and-yellow-flags-uk-rnli-beach-safety.webp' to 'D:\\FlagDetectionDatasets\\ExportedTaskDatasetsZips\\Job_154\\obj_train_data\\red-and-yellow-flags-uk-rnli-beach-safety.png'\n",
      "Deleted original 'red-and-yellow-flags-uk-rnli-beach-safety.webp'\n",
      "Converted 'australian-safe-swimming-flag-indicating-patrolled-beach-sunny-day-red-yellow-australia-259554593.webp' to 'D:\\FlagDetectionDatasets\\ExportedTaskDatasetsZips\\Job_154\\obj_train_data\\australian-safe-swimming-flag-indicating-patrolled-beach-sunny-day-red-yellow-australia-259554593.png'\n",
      "Deleted original 'australian-safe-swimming-flag-indicating-patrolled-beach-sunny-day-red-yellow-australia-259554593.webp'\n",
      "Converted 'Bandiera-Blu-Liguria.webp' to 'D:\\FlagDetectionDatasets\\ExportedTaskDatasetsZips\\Job_154\\obj_train_data\\Bandiera-Blu-Liguria.png'\n",
      "Deleted original 'Bandiera-Blu-Liguria.webp'\n",
      "Converted 'red-yellow-warning-sign-flag-marking-limit-safe-swimming-area-beach-under-blue-summer-sky-red-yellow-109820741.webp' to 'D:\\FlagDetectionDatasets\\ExportedTaskDatasetsZips\\Job_154\\obj_train_data\\red-yellow-warning-sign-flag-marking-limit-safe-swimming-area-beach-under-blue-summer-sky-red-yellow-109820741.png'\n",
      "Deleted original 'red-yellow-warning-sign-flag-marking-limit-safe-swimming-area-beach-under-blue-summer-sky-red-yellow-109820741.webp'\n",
      "Converted 'o_1ai2ml86fu9q15o41o6cbm4krm-1.webp' to 'D:\\FlagDetectionDatasets\\ExportedTaskDatasetsZips\\Job_154\\obj_train_data\\o_1ai2ml86fu9q15o41o6cbm4krm-1.png'\n",
      "Deleted original 'o_1ai2ml86fu9q15o41o6cbm4krm-1.webp'\n",
      "Converted '40796_Nyborg_Strand_Bl_Flag_vejrer.webp' to 'D:\\FlagDetectionDatasets\\ExportedTaskDatasetsZips\\Job_154\\obj_train_data\\40796_Nyborg_Strand_Bl_Flag_vejrer.png'\n",
      "Deleted original '40796_Nyborg_Strand_Bl_Flag_vejrer.webp'\n",
      "Converted 'red-yellow-flag-beach-baltic-sea-fluttering-wind-horizon-holiday-travelers-60527206.webp' to 'D:\\FlagDetectionDatasets\\ExportedTaskDatasetsZips\\Job_154\\obj_train_data\\red-yellow-flag-beach-baltic-sea-fluttering-wind-horizon-holiday-travelers-60527206.png'\n",
      "Deleted original 'red-yellow-flag-beach-baltic-sea-fluttering-wind-horizon-holiday-travelers-60527206.webp'\n"
     ]
    }
   ],
   "source": [
    "# ConvertWebpToPNG_L2.ipynb - Run in flag env. \n",
    "# Batch conversion of .webp images to .png in a folder. \n",
    "# In one online-sourced dataset, some online images were inadvertently annotated in cvat without first \n",
    "# converting them to png first\n",
    "# They were annotated in CVAT and exported as webp images\n",
    "# This converts the exported, annotated files to png format in the relevant folder \n",
    "# Converting from .webp to .png will work directly as long as the .txt files are named identically to the images.\n",
    "\n",
    "from PIL import Image\n",
    "import os\n",
    "\n",
    "def convert_webp_folder_to_png(folder_path):\n",
    "    # Loop through all files in the folder\n",
    "    for filename in os.listdir(folder_path):\n",
    "        # Process only .webp files\n",
    "        if filename.lower().endswith('.webp'):\n",
    "            webp_path = os.path.join(folder_path, filename)\n",
    "            png_path = os.path.join(folder_path, os.path.splitext(filename)[0] + '.png')\n",
    "            \n",
    "            # Open the .webp image, convert to .png, and delete the original\n",
    "            with Image.open(webp_path) as img:\n",
    "                img.save(png_path, 'PNG')\n",
    "                print(f\"Converted '{filename}' to '{png_path}'\")\n",
    "                \n",
    "            # Delete the original .webp file\n",
    "            os.remove(webp_path)\n",
    "            print(f\"Deleted original '{filename}'\")\n",
    "\n",
    "# Convert webp files in a folder to png \n",
    "folder_path= 'D:\\FlagDetectionDatasets\\ExportedTaskDatasetsZips\\Job_154\\obj_train_data' \n",
    "#folder_path = 'D:\\FlagDetectionDatasets\\ExportedDatasetsExtracted\\Job_154\\obj_train_data' \n",
    "convert_webp_folder_to_png(folder_path)\n",
    "\n",
    "#Converted 'Job_154_000006.webp' to 'D:\\FlagDetectionDatasets\\ExportedDatasetsExtracted\\Job_154\\obj_train_data\\Job_154_000006.png'\n",
    "#Deleted original 'Job_154_000006.webp'\n",
    "#Converted 'Job_154_000026.webp' to 'D:\\FlagDetectionDatasets\\ExportedDatasetsExtracted\\Job_154\\obj_train_data\\Job_154_000026.png'\n",
    "#Deleted original 'Job_154_000026.webp'"
   ]
  },
  {
   "cell_type": "code",
   "execution_count": null,
   "id": "ba5ec3d2-1e21-401c-aaa5-4bc29a993200",
   "metadata": {},
   "outputs": [],
   "source": []
  }
 ],
 "metadata": {
  "kernelspec": {
   "display_name": "Python 3 (ipykernel)",
   "language": "python",
   "name": "python3"
  },
  "language_info": {
   "codemirror_mode": {
    "name": "ipython",
    "version": 3
   },
   "file_extension": ".py",
   "mimetype": "text/x-python",
   "name": "python",
   "nbconvert_exporter": "python",
   "pygments_lexer": "ipython3",
   "version": "3.8.19"
  }
 },
 "nbformat": 4,
 "nbformat_minor": 5
}
