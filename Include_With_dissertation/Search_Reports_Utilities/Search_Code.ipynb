{
 "cells": [
  {
   "cell_type": "code",
   "execution_count": 48,
   "id": "eccafc31-7a36-471b-aac6-86c51186c72f",
   "metadata": {},
   "outputs": [
    {
     "name": "stdout",
     "output_type": "stream",
     "text": [
      "Notebooks containing 'rename':\n",
      "C:/Users/peter/projects/classifyflags\\augmentation\\FixBlueFlagBoudingBoxByContrastForFolder.ipynb\n",
      "C:/Users/peter/projects/classifyflags\\Include_With_dissertation\\Augmentation\\FixBlueFlagBoudingBoxByContrastForFolder.ipynb\n",
      "C:/Users/peter/projects/classifyflags\\Include_With_dissertation\\Augmentation_Detect_Text_OCR\\A_Aug_OCR_Merge_Crops.ipynb\n",
      "C:/Users/peter/projects/classifyflags\\Include_With_dissertation\\Augmentation_Detect_Text_OCR\\A_Aug_OCR_Merge_Parent_and_Crop_by_Class_Coordinates.ipynb\n",
      "C:/Users/peter/projects/classifyflags\\Include_With_dissertation\\Augmentation_Detect_Text_OCR\\A_Aug_OCR_Merge_Parent_and_Crop_by_Class_Coordinates2.ipynb\n",
      "C:/Users/peter/projects/classifyflags\\Include_With_dissertation\\datasetprep_utilities\\A_Step_4a_TransformTestDataToYoloDataFormatAndSplit-Copy1.ipynb\n",
      "C:/Users/peter/projects/classifyflags\\Include_With_dissertation\\datasetprep_utilities\\Prep_Convert_CVAT_Export_Yolo1_1_To_Latest_Yolo_For_Folder.ipynb\n",
      "C:/Users/peter/projects/classifyflags\\Include_With_dissertation\\Dataset_Management\\A_Rename_Delete_Orphan_Files-checkpoint.ipynb\n",
      "C:/Users/peter/projects/classifyflags\\Include_With_dissertation\\Dataset_Management\\A_Rename_Delete_Orphan_Files.ipynb\n",
      "C:/Users/peter/projects/classifyflags\\Include_With_dissertation\\Dataset_Management\\Rename_Images_sourced_online_with_Job_xx_xxxxxx_Sequence.ipynb\n",
      "C:/Users/peter/projects/classifyflags\\Include_With_dissertation\\EDA_Preview_and_Visualisations\\Compare_Dataset_Folders_Qty_Size.ipynb\n",
      "C:/Users/peter/projects/classifyflags\\Include_With_dissertation\\Process_Illumination\\A_Aug_Adjust_Illumination_for_Folders_of_Images2.ipynb\n"
     ]
    }
   ],
   "source": [
    "import os\n",
    "import json\n",
    "\n",
    "def search_string_in_ipynb(search_term, folder_path):\n",
    "    \"\"\"Search for a specific string inside Jupyter Notebook (.ipynb) files.\"\"\"\n",
    "    matching_files = []\n",
    "    \n",
    "    # Walk through the folder\n",
    "    for root, dirs, files in os.walk(folder_path):\n",
    "        if \".ipynb_checkpoints\" in root:\n",
    "            continue  # Skip .ipynb_checkpoints directories\n",
    "   \n",
    "        for file in files:\n",
    "            if file.endswith(\".ipynb\"):\n",
    "                notebook_path = os.path.join(root, file)\n",
    "                try:\n",
    "                    # Open and parse the notebook\n",
    "                    with open(notebook_path, 'r', encoding='utf-8') as f:\n",
    "                        notebook_data = json.load(f)\n",
    "                    \n",
    "                    # Check for the search term in all cells\n",
    "                    for cell in notebook_data.get('cells', []):\n",
    "                        if cell.get('cell_type') == 'code':\n",
    "                            source_code = ''.join(cell.get('source', []))\n",
    "                            if search_term in source_code:\n",
    "                                matching_files.append(notebook_path)\n",
    "                                break  # No need to search further in this file\n",
    "                except Exception as e:\n",
    "                    print(f\"Error reading {notebook_path}: {e}\")\n",
    "    \n",
    "    return matching_files\n",
    "\n",
    "# Run search to find a string for  a Job_No\n",
    "project_folder = \"C:/Users/peter/projects/classifyflags\"  # \"peter\" is becuase I didn't create a profile/uses existing profile / when I first started using the computer and  I'm the only one who uses  \n",
    "search_term = \"rename\"\n",
    "results = search_string_in_ipynb(search_term, project_folder)\n",
    "\n",
    "if results:\n",
    "    print(f\"Notebooks containing '{search_term}':\")\n",
    "    for result in results:\n",
    "        print(result)\n",
    "else:\n",
    "    print(f\"No notebooks found containing '{search_term}'.\")\n"
   ]
  },
  {
   "cell_type": "code",
   "execution_count": null,
   "id": "54f127af-f08a-4c45-a849-32371695d718",
   "metadata": {},
   "outputs": [],
   "source": []
  },
  {
   "cell_type": "code",
   "execution_count": null,
   "id": "cc57ed30-d9ac-4ae8-b551-e5ee4d3549b1",
   "metadata": {},
   "outputs": [],
   "source": []
  }
 ],
 "metadata": {
  "kernelspec": {
   "display_name": "Python 3 (ipykernel)",
   "language": "python",
   "name": "python3"
  },
  "language_info": {
   "codemirror_mode": {
    "name": "ipython",
    "version": 3
   },
   "file_extension": ".py",
   "mimetype": "text/x-python",
   "name": "python",
   "nbconvert_exporter": "python",
   "pygments_lexer": "ipython3",
   "version": "3.8.19"
  }
 },
 "nbformat": 4,
 "nbformat_minor": 5
}
