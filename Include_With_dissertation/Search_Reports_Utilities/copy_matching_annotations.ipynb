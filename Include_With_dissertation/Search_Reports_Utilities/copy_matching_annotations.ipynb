{
 "cells": [
  {
   "cell_type": "code",
   "execution_count": 8,
   "id": "924b5da0-9019-49c3-93a7-a808f707b10c",
   "metadata": {},
   "outputs": [
    {
     "name": "stdout",
     "output_type": "stream",
     "text": [
      "I'm done\n"
     ]
    }
   ],
   "source": [
    "# Restore annotations from files with the same aspect ratio - Emergency fix!!!\n",
    "\n",
    "import os\n",
    "import shutil\n",
    "\n",
    "def copy_matching_annotations(folder_a, folder_b, file_extension='.txt'):\n",
    "    \"\"\"\n",
    "    For each annotation file in folder B, find the corresponding annotation \n",
    "    in folder A and copy it to folder A.\n",
    "\n",
    "    :param folder_a: Path to folder A (where annotations are stored).\n",
    "    :param folder_b: Path to folder B (which contains files to match).\n",
    "    :param file_extension: The extension of annotation files to consider (default is '.txt').\n",
    "    \"\"\"\n",
    "    print(f\"I'm starting \")\n",
    "\n",
    "    # Walk through subfolders of folder B\n",
    "    for dirpath, _, filenames in os.walk(folder_b):\n",
    "        for filename in filenames:\n",
    "            if filename.endswith(file_extension):  # Check for annotation files only\n",
    "                # Construct the matching annotation file path in folder A\n",
    "                relative_path = os.path.relpath(dirpath, folder_b)  # Get the relative path from folder B\n",
    "                corresponding_dir_in_a = os.path.join(folder_a, relative_path)  # Corresponding directory in A\n",
    "                \n",
    "                # Make sure the corresponding directory exists in folder A\n",
    "                os.makedirs(corresponding_dir_in_a, exist_ok=True)\n",
    "\n",
    "                # Construct the source and destination paths\n",
    "                source_annotation_path = os.path.join(dirpath, filename)\n",
    "                destination_annotation_path = os.path.join(corresponding_dir_in_a, filename)\n",
    "\n",
    "                # Copy the file\n",
    "                shutil.copy(source_annotation_path, destination_annotation_path)\n",
    "                #print(f\"Copied annotation {filename} from {dirpath} to {corresponding_dir_in_a}\")\n",
    "    print(f\"I'm done\")\n",
    "\n",
    "folder_from = 'D:/FlagDetectionDatasets/ExportedDatasetsReducedML_A/val' # annotations sourced from.\n",
    "copy_to = 'D:/FlagDetectionDatasets/ExportedDatasetsReducedML_B640/val' # copy the annotation files to heer \n",
    "\n",
    "copy_matching_annotations(copy_to, folder_from)\n"
   ]
  },
  {
   "cell_type": "code",
   "execution_count": null,
   "id": "64731ec0-091e-4d74-8167-2976d458496e",
   "metadata": {},
   "outputs": [],
   "source": []
  }
 ],
 "metadata": {
  "kernelspec": {
   "display_name": "Python 3 (ipykernel)",
   "language": "python",
   "name": "python3"
  },
  "language_info": {
   "codemirror_mode": {
    "name": "ipython",
    "version": 3
   },
   "file_extension": ".py",
   "mimetype": "text/x-python",
   "name": "python",
   "nbconvert_exporter": "python",
   "pygments_lexer": "ipython3",
   "version": "3.8.19"
  }
 },
 "nbformat": 4,
 "nbformat_minor": 5
}
