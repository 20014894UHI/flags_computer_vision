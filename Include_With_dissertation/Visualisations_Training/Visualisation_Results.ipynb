{
 "cells": [
  {
   "cell_type": "code",
   "execution_count": null,
   "id": "0bd4bb6f-cb21-4285-93d8-9609e846a080",
   "metadata": {},
   "outputs": [],
   "source": [
    "# Visualisations for the results.csv file after training using Yolo11n on Google Colabs \n",
    "import pandas as pd\n",
    "import matplotlib.pyplot as plt\n",
    "\n",
    "# Path to the log CSV file\n",
    "log_path = \"results.csv\"\n",
    "\n",
    "# Load the CSV into a DataFrame\n",
    "df = pd.read_csv(log_path)\n",
    "\n",
    "# Preview the DataFrame\n",
    "print(df.head())\n",
    "\n",
    "# Plotting function\n",
    "def plot_metric(df, metric, title, ylabel):\n",
    "    plt.figure(figsize=(10, 6))\n",
    "    plt.plot(df[\"epoch\"], df[metric], label=metric, marker='o')\n",
    "    plt.title(title)\n",
    "    plt.xlabel(\"Epoch\")\n",
    "    plt.ylabel(ylabel)\n",
    "    plt.legend()\n",
    "    plt.grid(True)\n",
    "    plt.show()\n",
    "\n",
    "# Plot key metrics\n",
    "plot_metric(df, \"train/box_loss\", \"Training Box Loss\", \"Loss\")\n",
    "plot_metric(df, \"train/cls_loss\", \"Training Classification Loss\", \"Loss\")\n",
    "plot_metric(df, \"train/dfl_loss\", \"Training Distribution Focal Loss\", \"Loss\")\n",
    "\n",
    "plot_metric(df, \"metrics/precision(B)\", \"Validation Precision\", \"Precision\")\n",
    "plot_metric(df, \"metrics/recall(B)\", \"Validation Recall\", \"Recall\")\n",
    "plot_metric(df, \"metrics/mAP50(B)\", \"Validation mAP@50\", \"mAP\")\n",
    "plot_metric(df, \"metrics/mAP50-95(B)\", \"Validation mAP@50-95\", \"mAP\")\n",
    "\n",
    "plot_metric(df, \"val/box_loss\", \"Validation Box Loss\", \"Loss\")\n",
    "plot_metric(df, \"val/cls_loss\", \"Validation Classification Loss\", \"Loss\")\n",
    "plot_metric(df, \"val/dfl_loss\", \"Validation Distribution Focal Loss\", \"Loss\")\n"
   ]
  }
 ],
 "metadata": {
  "kernelspec": {
   "display_name": "Python 3 (ipykernel)",
   "language": "python",
   "name": "python3"
  },
  "language_info": {
   "codemirror_mode": {
    "name": "ipython",
    "version": 3
   },
   "file_extension": ".py",
   "mimetype": "text/x-python",
   "name": "python",
   "nbconvert_exporter": "python",
   "pygments_lexer": "ipython3",
   "version": "3.8.19"
  }
 },
 "nbformat": 4,
 "nbformat_minor": 5
}
