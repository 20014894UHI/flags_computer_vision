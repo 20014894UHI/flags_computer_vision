{
 "cells": [
  {
   "cell_type": "code",
   "execution_count": null,
   "id": "2460a24a-3226-48cb-b68f-cce8df8b61a5",
   "metadata": {},
   "outputs": [
    {
     "name": "stdout",
     "output_type": "stream",
     "text": [
      "Validating annotations in: D:/FlagDetectionDatasets/ExportedDatasetsSelectedML_A/val\n"
     ]
    }
   ],
   "source": [
    "# Checking annotations to troublehsoot issue training the model locally and online  \n",
    "import os\n",
    "def validate_annotations(folder, valid_classes):\n",
    "    \"\"\"\n",
    "    Validate YOLO annotation files in a folder containing both images and annotations.\n",
    "\n",
    "    Args:\n",
    "        folder (str): Path to the folder containing images and annotations.\n",
    "        valid_classes (list): List of valid class IDs.\n",
    "    \"\"\"\n",
    "    invalid_files = []\n",
    "    total_files_checked = 0\n",
    "    total_lines_checked = 0\n",
    "    total_invalid_lines = 0\n",
    "\n",
    "    print(f\"Validating annotations in: {folder}\")\n",
    "    for file in os.listdir(folder):\n",
    "        if file.endswith('.txt'):  # Look for annotation files\n",
    "            filepath = os.path.join(folder, file)\n",
    "            with open(filepath, 'r') as f:\n",
    "                lines = f.readlines()\n",
    "            total_files_checked += 1\n",
    "\n",
    "            for line_number, line in enumerate(lines, 1):\n",
    "                try:\n",
    "                    parts = line.split()\n",
    "                    if len(parts) != 5:  # YOLO format: class x_center y_center width height\n",
    "                        raise ValueError(f\"Invalid line format: {line.strip()}\")\n",
    "                    class_id = int(parts[0])\n",
    "                    if class_id not in valid_classes:\n",
    "                        invalid_files.append((filepath, line_number, line.strip()))\n",
    "                        total_invalid_lines += 1\n",
    "                except Exception as e:\n",
    "                    print(f\"Error in file {filepath}, line {line_number}: {e}\")\n",
    "            total_lines_checked += len(lines)\n",
    "\n",
    "    print(f\"\\nValidation completed:\")\n",
    "    print(f\"Total annotation files checked: {total_files_checked}\")\n",
    "    print(f\"Total lines checked: {total_lines_checked}\")\n",
    "    print(f\"Total invalid lines: {total_invalid_lines}\")\n",
    "\n",
    "    if invalid_files:\n",
    "        print(\"\\nInvalid annotations found:\")\n",
    "        for filepath, line_number, line in invalid_files:\n",
    "            print(f\"File: {filepath}, Line {line_number}: {line}\")\n",
    "    else:\n",
    "        print(\"No issues found. All annotations are valid.\")\n",
    "\n",
    "# Define the folder and valid class IDs\n",
    "#folder = \"D:/FlagDetectionDatasets/ExportedDatasetsSelectedML_A/train\"  # Update path as needed\n",
    "#folder = \"D:/FlagDetectionDatasets/ExportedDatasetsSelectedML_A/test\"  # Update path as needed\n",
    "folder = \"D:/FlagDetectionDatasets/ExportedDatasetsSelectedML_A/val\"  # Update path as needed\n",
    "\n",
    "valid_classes = [0, 1, 2, 3, 4, 5, 6]\n",
    "\n",
    "# Run the validation\n",
    "validate_annotations(folder, valid_classes)\n"
   ]
  },
  {
   "cell_type": "code",
   "execution_count": null,
   "id": "b0caba2a-8e03-4684-9b2e-f80c01cdbd02",
   "metadata": {},
   "outputs": [],
   "source": []
  }
 ],
 "metadata": {
  "kernelspec": {
   "display_name": "Python 3 (ipykernel)",
   "language": "python",
   "name": "python3"
  },
  "language_info": {
   "codemirror_mode": {
    "name": "ipython",
    "version": 3
   },
   "file_extension": ".py",
   "mimetype": "text/x-python",
   "name": "python",
   "nbconvert_exporter": "python",
   "pygments_lexer": "ipython3",
   "version": "3.8.19"
  }
 },
 "nbformat": 4,
 "nbformat_minor": 5
}
