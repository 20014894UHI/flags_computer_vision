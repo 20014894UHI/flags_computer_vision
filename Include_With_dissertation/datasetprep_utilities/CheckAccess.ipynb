{
 "cells": [
  {
   "cell_type": "code",
   "execution_count": 2,
   "id": "640d9913-b706-4dd8-9536-6a6b9a7d933b",
   "metadata": {},
   "outputs": [
    {
     "name": "stdout",
     "output_type": "stream",
     "text": [
      "D:\\FlagDetectionDatasets\\ExportedDatasetsReduced is a directory.\n",
      "Read access: Yes\n",
      "Write access: Yes\n"
     ]
    }
   ],
   "source": [
    "import os\n",
    "\n",
    "def check_access(path):\n",
    "    # Check if the path exists\n",
    "    if not os.path.exists(path):\n",
    "        print(f\"Path does not exist: {path}\")\n",
    "        return\n",
    "\n",
    "    # Check if the path is a file or directory\n",
    "    if os.path.isfile(path):\n",
    "        print(f\"{path} is a file.\")\n",
    "    elif os.path.isdir(path):\n",
    "        print(f\"{path} is a directory.\")\n",
    "    \n",
    "    # Check read access\n",
    "    if os.access(path, os.R_OK):\n",
    "        print(f\"Read access: Yes\")\n",
    "    else:\n",
    "        print(f\"Read access: No\")\n",
    "    \n",
    "    # Check write access\n",
    "    if os.access(path, os.W_OK):\n",
    "        print(f\"Write access: Yes\")\n",
    "    else:\n",
    "        print(f\"Write access: No\")\n",
    "\n",
    "# Check access\n",
    "#folder_path = r'D:\\FlagDetectionDatasets\\ExportedDatasetsExtracted'\n",
    "#folder_path = r'D:\\FlagDetectionDatasets\\ExportedDatasetsReduced'\n",
    "#folder_path= 'D:\\FlagDetectionDatasets\\datasets\\DataTask116\\obj_train_data'\n",
    "#folder_path = 'D:\\FlagDetectionDatasets\\datasets\\DataTask9\n",
    "check_access(folder_path)\n"
   ]
  },
  {
   "cell_type": "code",
   "execution_count": null,
   "id": "75dca0c8-bf22-4c56-8687-523c89b6a730",
   "metadata": {},
   "outputs": [],
   "source": []
  },
  {
   "cell_type": "code",
   "execution_count": null,
   "id": "c6703d0e-4721-44ec-85b1-68b2d4669693",
   "metadata": {},
   "outputs": [],
   "source": []
  }
 ],
 "metadata": {
  "kernelspec": {
   "display_name": "Python 3 (ipykernel)",
   "language": "python",
   "name": "python3"
  },
  "language_info": {
   "codemirror_mode": {
    "name": "ipython",
    "version": 3
   },
   "file_extension": ".py",
   "mimetype": "text/x-python",
   "name": "python",
   "nbconvert_exporter": "python",
   "pygments_lexer": "ipython3",
   "version": "3.8.19"
  }
 },
 "nbformat": 4,
 "nbformat_minor": 5
}
