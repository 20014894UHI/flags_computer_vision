{
 "cells": [
  {
   "cell_type": "code",
   "execution_count": null,
   "id": "b430323c-2d99-4498-a27e-0c5c889e8cb3",
   "metadata": {},
   "outputs": [],
   "source": [
    "# Sort duplicate files \n",
    "\n",
    "import os\n",
    "\n",
    "def sort_and_delete_images(folder1, folder2):\n",
    "    \"\"\"\n",
    "    Compares images in `folder1` with `folder2` and deletes any matching images\n",
    "    and their annotation files from `folder1`.\n",
    "\n",
    "    Parameters:\n",
    "    - folder1 (str): The path to the first folder (obj_train_folder).\n",
    "    - folder2 (str): The path to the second folder (comparison folder).\n",
    "    \"\"\"\n",
    "    print(f\"Starting to process...\")\n",
    "\n",
    "    # Walk through all sub-folders in folder1\n",
    "    for subdir, _, files in os.walk(folder1):\n",
    "        # Find the corresponding sub-folder in folder2\n",
    "        relative_path = os.path.relpath(subdir, folder1)\n",
    "        folder2_subdir = os.path.join(folder2, relative_path)\n",
    "\n",
    "        if not os.path.exists(folder2_subdir):\n",
    "            continue  # Skip if the sub-folder doesn't exist in folder2\n",
    "\n",
    "        for file in files:\n",
    "            if file.endswith(('.jpg', '.png')):  # Add other image extensions if needed\n",
    "                # Check if the image exists in the corresponding folder2 sub-folder\n",
    "                image_path_folder2 = os.path.join(folder2_subdir, file)\n",
    "                if os.path.exists(image_path_folder2):\n",
    "                    # Delete the image from folder1\n",
    "                    image_path_folder1 = os.path.join(subdir, file)\n",
    "                    os.remove(image_path_folder1)\n",
    "                    print(f\"Deleted image: {image_path_folder1}\")\n",
    "\n",
    "                    # Delete the corresponding annotation text file from folder1\n",
    "                    annotation_file = os.path.splitext(file)[0] + '.txt'\n",
    "                    annotation_path = os.path.join(subdir, annotation_file)\n",
    "                    if os.path.exists(annotation_path):\n",
    "                        os.remove(annotation_path)\n",
    "                        print(f\"Deleted annotation: {annotation_path}\")\n",
    "\n",
    "# sort data images and annotations \n",
    "folder1 = r\"D:\\FlagDetectionDatasets\\ExportedDatasetsReduced\\Job_23\\obj_train_data\"\n",
    "folder2 = r\"D:\\FlagDetectionDatasets\\ExportedDatasetsReduced\\Job_23_ssim\\obj_train_data\"\n",
    "\n",
    "sort_and_delete_images(folder1, folder2)\n"
   ]
  },
  {
   "cell_type": "code",
   "execution_count": null,
   "id": "2c9acd34-9886-4572-8f08-56f329d968a4",
   "metadata": {},
   "outputs": [],
   "source": []
  }
 ],
 "metadata": {
  "kernelspec": {
   "display_name": "",
   "name": ""
  },
  "language_info": {
   "name": ""
  }
 },
 "nbformat": 4,
 "nbformat_minor": 5
}
