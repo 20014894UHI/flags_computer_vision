{
 "cells": [
  {
   "cell_type": "code",
   "execution_count": 26,
   "id": "e3dfdf23-80f1-427a-b3b3-bb358680bdd6",
   "metadata": {},
   "outputs": [
    {
     "name": "stdout",
     "output_type": "stream",
     "text": [
      "D:/Brid_Videos/Red_yellow_flag_moderate_wind_2.mp4\n",
      "D:/Brid_Videos/Red_yellow_flag_moderate_wind_2.mp4\n"
     ]
    }
   ],
   "source": [
    "# Inference on a video and  saves a video with resutsl and bounding boxes \n",
    "# outputs the detections \n",
    "from ultralytics import YOLO\n",
    "import cv2\n",
    "\n",
    "# Load the trained model\n",
    "model = YOLO('Set_1_Selected_TestC_BEST.pt')  \n",
    "# Path to the video file\n",
    "#video_path ='https://youtu.be/VjT_x3WQC94'\n",
    "#video_path=\"UnseenVideos/Flags3Compilation.mp4\"\n",
    "#output_path = 'UnseenVideos/Flags3Compilation.mp4_Output.mp4' \n",
    "#video 2\n",
    "#video_path='D:/Brid_Videos/July29/WhiteStrand/29072024_Red_Yellow_Flag_2.mp4'\n",
    "#output_path = 'UnseenVideos/29072024_Red_Yellow_Flag_2_Output.mp4' \n",
    "# Need to add a cv2.imshow() step) to display the video while processing \n",
    "# video 3\n",
    "#video_path='D:/Brid_Videos/Home_Videos/R_Y_flag_light_wind1.mp4'\n",
    "#output_path = 'UnseenVideos/R_Y_flag_light_wind1.mp4_Output.mp4' \n",
    "\n",
    "\n",
    "# vide 4 \n",
    "video_path='D:/Brid_Videos/Red_yellow_flag_moderate_wind_2.mp4'\n",
    "output_path = 'UnseenVideos/Red_yellow_flag_moderate_wind_2_output.mp4' \n",
    "\n",
    "# video path ='RedFlagModerate wind dusk1.mp4'\n",
    "#video_path = 'D:/Brid_Videos/Home_Videos/RedFlagModeratewinddusk1.mp4' \n",
    "#output_path = 'UnseenVideos/RedFlagModeratewinddusk1output.mp4'  \n",
    "\n",
    "# video path ='RedFlagModerate wind dusk1.mp4'\n",
    "#video_path = 'D:/Brid_Videos/September8/WhiteStrand/08092024_No_Flag2.mp4'\n",
    "#output_path = 'UnseenVideos/08092024_No_Flag2_output.mp4'  \n",
    "\n",
    "#26_08_2024_No_Flag_6.mp4\n",
    "# video path ='RedFlagModerate wind dusk1.mp4'\n",
    "#video_path = 'D:/Brid_Videos/August26/WhiteStrand/26_08_2024_No_Flag_6.mp4'\n",
    "#output_path = 'UnseenVideos/26_08_2024_No_Flag_6.mp4' \n",
    "\n",
    "#output_path = 'UnseenVideos/RedFlagModeratewinddusk1output.mp4'  \n",
    "\n",
    "#video_path = 'D:/Brid_Videos/August4/WhiteStrand/04072024_Red_Flag_1.mp4'\n",
    "#output_path = 'UnseenVideos/04072024_Red_Flag_1.mp4' \n",
    "\n",
    "# Open the video file\n",
    "cap = cv2.VideoCapture(video_path)\n",
    "print(video_path)\n",
    "width = int(cap.get(cv2.CAP_PROP_FRAME_WIDTH))\n",
    "height = int(cap.get(cv2.CAP_PROP_FRAME_HEIGHT))\n",
    "fps = int(cap.get(cv2.CAP_PROP_FPS))\n",
    "\n",
    "# Define video writer to save output\n",
    "fourcc = cv2.VideoWriter_fourcc(*'mp4v')  # Codec for MP4\n",
    "out = cv2.VideoWriter(output_path, fourcc, fps, (width, height))\n",
    "\n",
    "while cap.isOpened():\n",
    "    ret, frame = cap.read()\n",
    "    if not ret:\n",
    "        break  # Exit the loop if no frame is read\n",
    "    # Perform inference\n",
    "    results = model(frame)  # Inference on the current frame\n",
    "\n",
    "    # Visualize the results\n",
    "    annotated_frame = results[0].plot()  # Draw boxes and labels on the frame\n",
    "\n",
    "    # Write the annotated frame to the output video\n",
    "    out.write(annotated_frame)\n",
    "\n",
    "    # Optional: Display the video in real time\n",
    "    cv2.imshow('Video', annotated_frame)\n",
    "    if cv2.waitKey(1) & 0xFF == ord('q'):  # Press 'q' to quit\n",
    "        break\n",
    "\n",
    "# Release resources\n",
    "cap.release()\n",
    "out.release()\n",
    "cv2.destroyAllWindows()\n",
    "#print(video_path)"
   ]
  },
  {
   "cell_type": "code",
   "execution_count": null,
   "id": "6c6bb340-7072-49c0-9b0c-2aff59ccaa98",
   "metadata": {},
   "outputs": [],
   "source": []
  },
  {
   "cell_type": "code",
   "execution_count": null,
   "id": "3422a50d-9dc1-4bf6-a5bd-d3648a68e1e0",
   "metadata": {},
   "outputs": [],
   "source": []
  }
 ],
 "metadata": {
  "kernelspec": {
   "display_name": "Python 3 (ipykernel)",
   "language": "python",
   "name": "python3"
  },
  "language_info": {
   "codemirror_mode": {
    "name": "ipython",
    "version": 3
   },
   "file_extension": ".py",
   "mimetype": "text/x-python",
   "name": "python",
   "nbconvert_exporter": "python",
   "pygments_lexer": "ipython3",
   "version": "3.8.19"
  }
 },
 "nbformat": 4,
 "nbformat_minor": 5
}
