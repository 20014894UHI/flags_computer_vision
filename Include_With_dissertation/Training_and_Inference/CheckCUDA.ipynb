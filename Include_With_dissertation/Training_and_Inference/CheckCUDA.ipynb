{
 "cells": [
  {
   "cell_type": "code",
   "execution_count": 1,
   "id": "8e19116e-d88a-4efd-93a8-b87d3eca3b16",
   "metadata": {},
   "outputs": [
    {
     "name": "stdout",
     "output_type": "stream",
     "text": [
      "2.4.1\n",
      "tensor([[0.3674, 0.4654, 0.5986],\n",
      "        [0.3632, 0.2515, 0.2542],\n",
      "        [0.8714, 0.9857, 0.0303],\n",
      "        [0.6871, 0.5735, 0.6862],\n",
      "        [0.1644, 0.9009, 0.1353]])\n",
      "CUDA Available: True\n",
      "Number of GPUs: 1\n",
      "Current Device: 0\n",
      "Device Name: Quadro P1000\n"
     ]
    }
   ],
   "source": [
    "# Check if CUDA is available \n",
    "# rUN THIS IN flags env \n",
    "# Run this in flags env \n",
    "import torch\n",
    "print(torch.__version__)\n",
    "\n",
    "x = torch.rand(5, 3)\n",
    "print(x)\n",
    "\n",
    "# Check if CUDA is available and if PyTorch is using the GPU\n",
    "print(\"CUDA Available:\", torch.cuda.is_available())\n",
    "print(\"Number of GPUs:\", torch.cuda.device_count())\n",
    "print(\"Current Device:\", torch.cuda.current_device())\n",
    "print(\"Device Name:\", torch.cuda.get_device_name(0) if torch.cuda.is_available() else \"No GPU detected\")\n",
    "\n",
    "# check GPU version \n",
    "print(cv2.getBuildInformation())\n",
    "#device = torch.device('cuda' if torch.cuda.is_available() else 'cpu')\n",
    "\n"
   ]
  },
  {
   "cell_type": "code",
   "execution_count": null,
   "id": "4e89ccf5-b9c9-454d-8d3d-e8a51e4f8101",
   "metadata": {},
   "outputs": [],
   "source": [
    "# opened anacoconda prompt \n",
    "# siwtched to flags \n",
    "# conda activate flags\n",
    "# checked cuda availableilty - false\n",
    "# ran conda install pytorch torchvision torchaudio pytorch-cuda=11.8 -c pytorch -c nvidia\n",
    "# Retrieving notices: ...working... done\n",
    "# Channels:\n",
    "# - pytorch\n",
    "# - nvidia\n",
    "# - defaults\n",
    "#Platform: win-64\n",
    "#Collecting package metadata (repodata.json): done\n",
    "#Solving environment: done\n",
    "\n",
    "## Package Plan ##\n",
    "\n",
    "# environment location: C:\\Users\\peter\\anaconda3\\envs\\flags\n"
   ]
  },
  {
   "cell_type": "code",
   "execution_count": null,
   "id": "eb793770-b317-44f3-aa7a-635caced69d1",
   "metadata": {},
   "outputs": [],
   "source": []
  }
 ],
 "metadata": {
  "kernelspec": {
   "display_name": "Python 3 (ipykernel)",
   "language": "python",
   "name": "python3"
  },
  "language_info": {
   "codemirror_mode": {
    "name": "ipython",
    "version": 3
   },
   "file_extension": ".py",
   "mimetype": "text/x-python",
   "name": "python",
   "nbconvert_exporter": "python",
   "pygments_lexer": "ipython3",
   "version": "3.8.19"
  }
 },
 "nbformat": 4,
 "nbformat_minor": 5
}
