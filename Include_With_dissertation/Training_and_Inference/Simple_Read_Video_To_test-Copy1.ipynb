{
 "cells": [
  {
   "cell_type": "code",
   "execution_count": null,
   "id": "35f890e8-586d-4f30-b87f-6b5e0881e6f0",
   "metadata": {},
   "outputs": [],
   "source": [
    "# Simple read and play vide0 first for troubleshooting \n",
    "import cv2\n",
    "\n",
    "# Path to video file\n",
    "#video_path ='https://youtu.be/VjT_x3WQC94'\n",
    "video_path='D:/FlagDetectionDatasets/A_Videos_Inference_Output/Flag_Composition_For_Inference.mp4'\n",
    "# Open the video file\n",
    "cap = cv2.VideoCapture(video_path)\n",
    "# Check if the video file opened successfully\n",
    "if not cap.isOpened():\n",
    "    print(\"Error: Cannot open video file.\")\n",
    "    exit()\n",
    "# Read and display the video frames\n",
    "while True:\n",
    "    ret, frame = cap.read()  # Read a frame from the video\n",
    "    if not ret:\n",
    "        print(\"End of video or error in reading frame.\")\n",
    "        break\n",
    "\n",
    "    # Display the frame\n",
    "    cv2.imshow('Video', frame)\n",
    "\n",
    "    # Break the loop if 'q' is pressed\n",
    "    if cv2.waitKey(25) & 0xFF == ord('q'):\n",
    "        break\n",
    "\n",
    "# Release the video capture object and close all OpenCV windows\n",
    "cap.release()\n",
    "cv2.destroyAllWindows()\n"
   ]
  },
  {
   "cell_type": "code",
   "execution_count": null,
   "id": "3a8cba70-5603-46d9-b551-607c9a8c3769",
   "metadata": {},
   "outputs": [],
   "source": []
  }
 ],
 "metadata": {
  "kernelspec": {
   "display_name": "Python 3 (ipykernel)",
   "language": "python",
   "name": "python3"
  },
  "language_info": {
   "codemirror_mode": {
    "name": "ipython",
    "version": 3
   },
   "file_extension": ".py",
   "mimetype": "text/x-python",
   "name": "python",
   "nbconvert_exporter": "python",
   "pygments_lexer": "ipython3",
   "version": "3.8.19"
  }
 },
 "nbformat": 4,
 "nbformat_minor": 5
}
