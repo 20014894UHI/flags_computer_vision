{
 "cells": [
  {
   "cell_type": "code",
   "execution_count": 28,
   "id": "5e8f160a-356c-4ae3-ab23-520bfe537338",
   "metadata": {},
   "outputs": [
    {
     "name": "stdout",
     "output_type": "stream",
     "text": [
      "Ultralytics 8.3.7  Python-3.8.19 torch-2.4.1 CUDA:0 (Quadro P1000, 4096MiB)\n",
      "Setup complete  (12 CPUs, 31.7 GB RAM, 275.8/476.1 GB disk)\n"
     ]
    }
   ],
   "source": [
    "# rEsOURCE: https://github.com/roboflow/notebooks/blob/main/notebooks/train-yolov8-object-detection-on-custom-dataset.ipynb\n",
    "# Pip install method (recommended)\n",
    "#!pip install ultralytics==8.0.196 - I installed using pip in Anaconda prompt \n",
    "# https://pypi.org/project/ultralytics/8.3.10 available  Update with 'pip install -U ultralytics'\n",
    "#from IPython import display\n",
    "#display.clear_output()\n",
    "import torch  # Import PyTorch - seems to be required from 8.3.4\n",
    "import ultralytics\n",
    "ultralytics.checks()\n",
    "#print(\"Torch\")\n",
    "#print(torch.__version__)"
   ]
  },
  {
   "cell_type": "code",
   "execution_count": 29,
   "id": "95485dc5-1498-424b-98c2-ac069d5ae7a0",
   "metadata": {},
   "outputs": [
    {
     "name": "stdout",
     "output_type": "stream",
     "text": [
      "C:\\Users\\peter\\projects\\classifyflags\n"
     ]
    }
   ],
   "source": [
    "# Create a HOME constant to make it easier to manage datasets and images and models \n",
    "import os\n",
    "HOME = os.getcwd()\n",
    "print(HOME)"
   ]
  },
  {
   "cell_type": "code",
   "execution_count": 30,
   "id": "5d2ec053-4879-4fe9-85c0-f12e495aebd4",
   "metadata": {},
   "outputs": [
    {
     "name": "stdout",
     "output_type": "stream",
     "text": [
      "Sat Oct 12 18:14:36 2024       \n",
      "+-----------------------------------------------------------------------------------------+\n",
      "| NVIDIA-SMI 555.99                 Driver Version: 555.99         CUDA Version: 12.5     |\n",
      "|-----------------------------------------+------------------------+----------------------+\n",
      "| GPU  Name                  Driver-Model | Bus-Id          Disp.A | Volatile Uncorr. ECC |\n",
      "| Fan  Temp   Perf          Pwr:Usage/Cap |           Memory-Usage | GPU-Util  Compute M. |\n",
      "|                                         |                        |               MIG M. |\n",
      "|=========================================+========================+======================|\n",
      "|   0  Quadro P1000                 WDDM  |   00000000:01:00.0 Off |                  N/A |\n",
      "| N/A   54C    P8             N/A / ERR!  |     460MiB /   4096MiB |      0%      Default |\n",
      "|                                         |                        |                  N/A |\n",
      "+-----------------------------------------+------------------------+----------------------+\n",
      "                                                                                         \n",
      "+-----------------------------------------------------------------------------------------+\n",
      "| Processes:                                                                              |\n",
      "|  GPU   GI   CI        PID   Type   Process name                              GPU Memory |\n",
      "|        ID   ID                                                               Usage      |\n",
      "|=========================================================================================|\n",
      "|    0   N/A  N/A     15248      C   ...ter\\anaconda3\\envs\\flags\\python.exe      N/A      |\n",
      "+-----------------------------------------------------------------------------------------+\n"
     ]
    }
   ],
   "source": [
    "!nvidia-smi"
   ]
  },
  {
   "cell_type": "code",
   "execution_count": null,
   "id": "5a5941cc-2d0b-4df6-9e67-03afa6f2e6ab",
   "metadata": {},
   "outputs": [],
   "source": [
    "#Install yolo via ultralytics\n",
    "# New https://pypi.org/project/ultralytics/8.3.7 available  Update with 'pip install -U ultralytics'\n",
    "# Was: Ultralytics 8.3.4  Python-3.8.19 torch-2.4.1 CUDA:0 (Quadro P1000, 4096MiB)\n",
    "# %pip install -U ultralytics"
   ]
  },
  {
   "cell_type": "code",
   "execution_count": 31,
   "id": "1cf74970-7751-4d63-8862-a1bc98e48040",
   "metadata": {},
   "outputs": [],
   "source": [
    "from ultralytics import YOLO\n",
    "from IPython.display import display, Image"
   ]
  },
  {
   "cell_type": "code",
   "execution_count": 21,
   "id": "abd31023-0d75-448f-8108-a0d258589d48",
   "metadata": {},
   "outputs": [],
   "source": [
    "# Load a pretrained YOLOv8 model (YOLOv8s is the small version)\n",
    "# model = YOLO('yolov8s.pt')\n",
    "#model = YOLO(f'{HOME}/yolov8n.pt')\n",
    "model = YOLO(f'{HOME}/yolo11n.pt')\n",
    "#model = YOLO(\"yolo11n.pt\")\n",
    "# Load the YOLO11 model\n",
    "#model = YOLO(\"yolo11n.pt\")\n",
    "# Load a model\n",
    "#model = YOLO(\"yolo11n-pose.yaml\")  # build a new model from YAML\n",
    "#model = YOLO(\"yolo11n-pose.pt\")  # load a pretrained model (recommended for training)\n",
    "#model = YOLO(\"yolo11n-pose.yaml\").load(\"yolo11n-pose.pt\")  # build from YAML and transfer weights\n",
    "\n",
    "# Pose estimation \n",
    "# Load a model\n",
    "#model = YOLO(\"yolo11n-pose.pt\")  # load an official model\n",
    "#model = YOLO(\"path/to/best.pt\")  # load a custom model\n",
    "# Predict with the model\n",
    "#results = model(\"https://ultralytics.com/images/bus.jpg\")  # predict on an image\n",
    "#!yolo task=detect mode=predict model={HOME}/yolo11n-pose.pt source=D:\\FlagDetectionDatasets\\A_Composed_cutouts_bgs save=True\n",
    "#!yolo task=pose mode=predict model={HOME}/yolo11n-pose.pt source=D:\\FlagDetectionDatasets\\dataset\\images\\test save=True\n",
    "#!yolo task=detect mode=predict model= {HOME}/runs/detect/train/weights/best.pt conf=0.25 source=D:\\FlagDetectionDatasets\\dataset\\images\\test save=True\n",
    "\n",
    "# Display results\n",
    "#results[0].show()\n",
    "#results.show()\n",
    "\n",
    "# Run inference on an image\n",
    "#results = model(\"D:/FlagDetectionDatasets/dataset/images/test/DSC08759.jpg\")\n",
    "#results = model(\"D:/FlagDetectionDatasets/dataset/images/test/DSC08765.jpg\")\n",
    "#results = model(\"D:/FlagDetectionDatasets/dataset/images/test/Job_8_000020.PNG\")\n",
    "#results = model(\"D:/FlagDetectionDatasets/dataset/images/test/Job_95_000342.PNG\")\n",
    "#results = model(\"D:/FlagDetectionDatasets/Downloaded_photos_not_editied\\Beach_safety_026.jpg\")\n",
    "#results = model(\"D:/FlagDetectionDatasets/A_Composed_cutouts_bgs/Composed10.png\")\n",
    "#results = model(\"D:/FlagDetectionDatasets/A_Composed_cutouts_bgs/Composed12.png\")\n",
    "#results = model(\"D:/FlagDetectionDatasets/A_Composed_cutouts_bgs/\")\n",
    "#!yolo task=detect mode=predict model={HOME}/runs/detect/train/weights/best.pt conf=0.25 source={dataset.location}/test/images save=True\n",
    "#!yolo task=detect mode=predict model={HOME}/yolo11n.pt source=D:\\FlagDetectionDatasets\\A_Composed_cutouts_bgs save=True\n",
    "#!yolo task=detect mode=predict model={HOME}/yolo11n.pt source=D:\\FlagDetectionDatasets\\A_Composed_cutouts_bgs save=True\n",
    "#!yolo task=detect mode=predict model={HOME}/runs/detect/train/weights/best.pt conf=0.25 source=D:/FlagDetectionDatasets/UnseenFlags save=True\n",
    "#!yolo task=detect mode=predict model= {HOME}/runs/detect/train/weights/best.pt conf=0.25 source=D:/FlagDetectionDatasets/Downloaded_photos save=True\n",
    "#!yolo task=detect mode=predict model= {HOME}/runs/detect/train/weights/best.pt conf=0.25 source=D:\\FlagDetectionDatasets\\A_Composed_cutouts_bgs save=True\n",
    "#!yolo task=detect mode=predict model= {HOME}/runs/detect/train/weights/best.pt conf=0.25 source=D:\\FlagDetectionDatasets\\dataset\\images\\test\\Job_95_000342.PNG save=True\n",
    "#results = model(\"D:/FlagDetectionDatasets/dataset/images/test/Job_95_000342.PNG\")\n",
    "#!yolo task=detect mode=predict model= {HOME}/runs/detect/train/weights/best.pt conf=0.25 source=D:\\FlagDetectionDatasets\\Downloaded_photos_not_editied\\Beach_safety_026.jpg save=True\n",
    "#!yolo task=detect mode=predict model= {HOME}/runs/detect/train/weights/best.pt conf=0.25 source=D:\\FlagDetectionDatasets\\A_Composed_cutouts_bgs save=True\n",
    "#D:\\FlagDetectionDatasets\\dataset\\images\\test\n",
    "#!yolo task=detect mode=predict model= {HOME}/runs/detect/train/weights/best.pt conf=0.25 source=D:\\FlagDetectionDatasets\\dataset\\images\\test save=True\n",
    "#!yolo task=detect mode=predict model= {HOME}/runs/detect/train/weights/best.pt conf=0.25 source=D:\\FlagDetectionDatasets\\Downloaded_photos_not_editied\\Beach_safety_026.jpg save=True\n",
    "#!yolo task=detect mode=predict model= {HOME}/runs/detect/train/weights/best.pt conf=0.25 source=D:\\FlagDetectionDatasets\\A_Composed_cutouts_bgs\\Beach_safety_026_2.png save=True\n",
    "#!yolo task=detect mode=predict model= {HOME}/runs/detect/train/weights/best.pt conf=0.25 source=D:\\FlagDetectionDatasets\\A_Composed_cutouts_bgs\\Beach_safety_026_3.png save=True\n",
    "#!yolo task=detect mode=predict model= {HOME}/runs/detect/train/weights/best.pt conf=0.25 source=D:\\FlagDetectionDatasets\\A_Composed_cutouts_bgs\\Beach_safety_026_4.png save=True\n",
    "#!yolo task=detect mode=predict model= {HOME}/runs/detect/train/weights/best.pt conf=0.25 source=D:\\FlagDetectionDatasets\\A_Composed_cutouts_bgs\\Beach_safety_026_5.png save=True\n",
    "#!yolo task=detect mode=predict model= {HOME}/runs/detect/train/weights/best.pt conf=0.25 source=D:\\FlagDetectionDatasets\\A_Composed_cutouts_bgs\\Beach_safety_026_6.png save=True\n",
    "# Display results\n",
    "#results[0].show()\n",
    "#results.show()"
   ]
  },
  {
   "cell_type": "code",
   "execution_count": 32,
   "id": "07c494b7-31c2-43a2-86bb-481b30e144a8",
   "metadata": {},
   "outputs": [],
   "source": [
    "# Force moving the model to GPU if available\n",
    "if torch.cuda.is_available():\n",
    "    model.to('cuda')  # Explicitly move the model to the GPU\n",
    "else:\n",
    "    print(\"CUDA not available. Running on CPU.\")"
   ]
  },
  {
   "cell_type": "code",
   "execution_count": 33,
   "id": "4cccb8c6-0ab3-4598-be62-34b0c6c5dfbe",
   "metadata": {},
   "outputs": [
    {
     "name": "stdout",
     "output_type": "stream",
     "text": [
      "Model is running on: cuda:0\n"
     ]
    }
   ],
   "source": [
    "device = model.device\n",
    "print(f'Model is running on: {device}')"
   ]
  },
  {
   "cell_type": "code",
   "execution_count": null,
   "id": "a7fe888d-822a-40bc-a79c-45ebffafa7e9",
   "metadata": {},
   "outputs": [],
   "source": [
    "# model = YOLO(f'{HOME}/yolov8n.pt')\n",
    "# results = model.predict(source='https://media.roboflow.com/notebooks/examples/dog.jpeg', conf=0.25)"
   ]
  },
  {
   "cell_type": "code",
   "execution_count": null,
   "id": "b8f5f9cc-dec4-4cf0-bd56-fb163d91b75b",
   "metadata": {},
   "outputs": [],
   "source": [
    "#results[0].boxes.xyxy"
   ]
  },
  {
   "cell_type": "code",
   "execution_count": null,
   "id": "89d07759-1d5c-4aa1-929e-fe5be39f3d7c",
   "metadata": {},
   "outputs": [],
   "source": [
    "#results[0].boxes.conf"
   ]
  },
  {
   "cell_type": "code",
   "execution_count": null,
   "id": "52e5094e-dac7-4d60-9540-e95f84577400",
   "metadata": {},
   "outputs": [],
   "source": [
    "# results[0].boxes.cls\n",
    "# Should show CUDA - tensor([ 0., 16.,  2.], device='cuda:0')"
   ]
  },
  {
   "cell_type": "code",
   "execution_count": null,
   "id": "581564d4-5950-4223-9361-8efba1b2c40f",
   "metadata": {},
   "outputs": [],
   "source": [
    "## Custom training"
   ]
  },
  {
   "cell_type": "code",
   "execution_count": null,
   "id": "4f3aee91-f6d6-4efa-ac1f-fa8f481d4f15",
   "metadata": {},
   "outputs": [],
   "source": [
    "# Custom training \n",
    "#%cd {HOME}\n",
    "#!yolo task=detect mode=train model=yolov8s.pt data={dataset.location}/data.yaml epochs=25 imgsz=800 plots=True"
   ]
  },
  {
   "cell_type": "code",
   "execution_count": null,
   "id": "ea0cef85-86a6-42c7-980d-6f9eba8831aa",
   "metadata": {},
   "outputs": [],
   "source": [
    "# Resume training \n",
    "# Load a model\n",
    "# directory_last_pt = os.path.join(HOME, 'runs', 'detect', 'train', 'weights', 'last.pt' )\n",
    "#print(directory_last_pt)\n",
    "# load a partially trained model\n",
    "#model = YOLO(directory_last_pt)\n",
    "# Resume training\n",
    "#results = model.train(resume=True)"
   ]
  },
  {
   "cell_type": "code",
   "execution_count": null,
   "id": "c004beeb-f4a6-463d-b895-fb424c2538a7",
   "metadata": {
    "scrolled": true
   },
   "outputs": [
    {
     "name": "stdout",
     "output_type": "stream",
     "text": [
      "New https://pypi.org/project/ultralytics/8.3.10 available  Update with 'pip install -U ultralytics'\n",
      "\u001b[34m\u001b[1mengine\\trainer: \u001b[0mtask=detect, mode=train, model=C:\\Users\\peter\\projects\\classifyflags/yolo11n.pt, data=D:/FlagDetectionDatasets/dataset/dataset.yaml, epochs=100, time=None, patience=100, batch=0.7, imgsz=640, save=True, save_period=-1, cache=False, device=cuda:0, workers=8, project=None, name=train, exist_ok=False, pretrained=True, optimizer=auto, verbose=True, seed=0, deterministic=True, single_cls=False, rect=False, cos_lr=False, close_mosaic=10, resume=False, amp=True, fraction=1.0, profile=False, freeze=None, multi_scale=False, overlap_mask=True, mask_ratio=4, dropout=0.0, val=True, split=val, save_json=False, save_hybrid=False, conf=None, iou=0.7, max_det=300, half=False, dnn=False, plots=True, source=None, vid_stride=1, stream_buffer=False, visualize=False, augment=False, agnostic_nms=False, classes=None, retina_masks=False, embed=None, show=False, save_frames=False, save_txt=False, save_conf=False, save_crop=False, show_labels=True, show_conf=True, show_boxes=True, line_width=None, format=torchscript, keras=False, optimize=False, int8=False, dynamic=False, simplify=True, opset=None, workspace=4, nms=False, lr0=0.01, lrf=0.01, momentum=0.937, weight_decay=0.0005, warmup_epochs=3.0, warmup_momentum=0.8, warmup_bias_lr=0.1, box=7.5, cls=0.5, dfl=1.5, pose=12.0, kobj=1.0, label_smoothing=0.0, nbs=64, hsv_h=0.015, hsv_s=0.7, hsv_v=0.4, degrees=0.0, translate=0.1, scale=0.5, shear=0.0, perspective=0.0, flipud=0.0, fliplr=0.5, bgr=0.0, mosaic=1.0, mixup=0.0, copy_paste=0.0, copy_paste_mode=flip, auto_augment=randaugment, erasing=0.4, crop_fraction=1.0, cfg=None, tracker=botsort.yaml, save_dir=runs\\detect\\train\n",
      "\n",
      "                   from  n    params  module                                       arguments                     \n",
      "  0                  -1  1       464  ultralytics.nn.modules.conv.Conv             [3, 16, 3, 2]                 \n",
      "  1                  -1  1      4672  ultralytics.nn.modules.conv.Conv             [16, 32, 3, 2]                \n",
      "  2                  -1  1      6640  ultralytics.nn.modules.block.C3k2            [32, 64, 1, False, 0.25]      \n",
      "  3                  -1  1     36992  ultralytics.nn.modules.conv.Conv             [64, 64, 3, 2]                \n",
      "  4                  -1  1     26080  ultralytics.nn.modules.block.C3k2            [64, 128, 1, False, 0.25]     \n",
      "  5                  -1  1    147712  ultralytics.nn.modules.conv.Conv             [128, 128, 3, 2]              \n",
      "  6                  -1  1     87040  ultralytics.nn.modules.block.C3k2            [128, 128, 1, True]           \n",
      "  7                  -1  1    295424  ultralytics.nn.modules.conv.Conv             [128, 256, 3, 2]              \n",
      "  8                  -1  1    346112  ultralytics.nn.modules.block.C3k2            [256, 256, 1, True]           \n",
      "  9                  -1  1    164608  ultralytics.nn.modules.block.SPPF            [256, 256, 5]                 \n",
      " 10                  -1  1    249728  ultralytics.nn.modules.block.C2PSA           [256, 256, 1]                 \n",
      " 11                  -1  1         0  torch.nn.modules.upsampling.Upsample         [None, 2, 'nearest']          \n",
      " 12             [-1, 6]  1         0  ultralytics.nn.modules.conv.Concat           [1]                           \n",
      " 13                  -1  1    111296  ultralytics.nn.modules.block.C3k2            [384, 128, 1, False]          \n",
      " 14                  -1  1         0  torch.nn.modules.upsampling.Upsample         [None, 2, 'nearest']          \n",
      " 15             [-1, 4]  1         0  ultralytics.nn.modules.conv.Concat           [1]                           \n",
      " 16                  -1  1     32096  ultralytics.nn.modules.block.C3k2            [256, 64, 1, False]           \n",
      " 17                  -1  1     36992  ultralytics.nn.modules.conv.Conv             [64, 64, 3, 2]                \n",
      " 18            [-1, 13]  1         0  ultralytics.nn.modules.conv.Concat           [1]                           \n",
      " 19                  -1  1     86720  ultralytics.nn.modules.block.C3k2            [192, 128, 1, False]          \n",
      " 20                  -1  1    147712  ultralytics.nn.modules.conv.Conv             [128, 128, 3, 2]              \n",
      " 21            [-1, 10]  1         0  ultralytics.nn.modules.conv.Concat           [1]                           \n",
      " 22                  -1  1    378880  ultralytics.nn.modules.block.C3k2            [384, 256, 1, True]           \n",
      " 23        [16, 19, 22]  1    431257  ultralytics.nn.modules.head.Detect           [3, [64, 128, 256]]           \n",
      "YOLO11n summary: 319 layers, 2,590,425 parameters, 2,590,409 gradients, 6.4 GFLOPs\n",
      "\n",
      "Transferred 499/499 items from pretrained weights\n",
      "Freezing layer 'model.23.dfl.conv.weight'\n",
      "\u001b[34m\u001b[1mAMP: \u001b[0mrunning Automatic Mixed Precision (AMP) checks with YOLO11n...\n",
      "\u001b[34m\u001b[1mAMP: \u001b[0mchecks passed \n",
      "\u001b[34m\u001b[1mAutoBatch: \u001b[0mComputing optimal batch size for imgsz=640 at 70.0% CUDA memory utilization.\n",
      "\u001b[34m\u001b[1mAutoBatch: \u001b[0mCUDA:0 (Quadro P1000) 4.00G total, 2.47G reserved, 0.22G allocated, 1.30G free\n",
      "      Params      GFLOPs  GPU_mem (GB)  forward (ms) backward (ms)                   input                  output\n",
      "     2590425       6.443         0.365         89.66         58.09        (1, 3, 640, 640)                    list\n",
      "     2590425       12.89         0.489         61.68         77.23        (2, 3, 640, 640)                    list\n",
      "     2590425       25.77         0.862         88.66         111.2        (4, 3, 640, 640)                    list\n",
      "     2590425       51.54         1.388           120           178        (8, 3, 640, 640)                    list\n",
      "     2590425       103.1         2.590         220.9         313.2       (16, 3, 640, 640)                    list\n",
      "\u001b[34m\u001b[1mAutoBatch: \u001b[0mUsing batch-size 4 for CUDA:0 3.51G/4.00G (88%) \n"
     ]
    },
    {
     "name": "stderr",
     "output_type": "stream",
     "text": [
      "\u001b[34m\u001b[1mtrain: \u001b[0mScanning D:\\FlagDetectionDatasets\\dataset\\labels\\train... 7932 images, 62 backgrounds, 0 corrupt: 100%|██████████| 7935/7935 [01:08<00:00, 115.03it/s]\n"
     ]
    },
    {
     "name": "stdout",
     "output_type": "stream",
     "text": [
      "\u001b[34m\u001b[1mtrain: \u001b[0mNew cache created: D:\\FlagDetectionDatasets\\dataset\\labels\\train.cache\n"
     ]
    },
    {
     "name": "stderr",
     "output_type": "stream",
     "text": [
      "\u001b[34m\u001b[1mval: \u001b[0mScanning D:\\FlagDetectionDatasets\\dataset\\labels\\valid... 1985 images, 15 backgrounds, 0 corrupt: 100%|██████████| 1985/1985 [00:15<00:00, 127.15it/s]\n"
     ]
    },
    {
     "name": "stdout",
     "output_type": "stream",
     "text": [
      "\u001b[34m\u001b[1mval: \u001b[0mNew cache created: D:\\FlagDetectionDatasets\\dataset\\labels\\valid.cache\n"
     ]
    }
   ],
   "source": [
    "# Train the model on dataset\n",
    "#model.train(data='D:/FlagDetectionDatasets/dataset/dataset.yaml', epochs=100, imgsz=640, batch=16)\n",
    "#model.train(data='D:/FlagDetectionDatasets/dataset/dataset.yaml', epochs=100, imgsz=640, batch=0.70 )#plots=True)# name=yolo11custom)\n",
    "#model.train(data='D:/FlagDetectionDatasets/dataset/dataset.yaml', epochs=100, imgsz=640, batch=0.70 )#plots=True)# name=yolo11custom)\n",
    "model.train(data='D:/FlagDetectionDatasets/dataset/dataset.yaml', epochs=100, imgsz=640, batch=0.70, save=True, plots=True)\n",
    "# close_mosaic = 0 \n",
    "# device = 0 - a single GPU (device=0) \n",
    "# Auto Mode with Utilization Fraction: Set a fraction value (e.g., batch=0.70) to adjust batch size based on the specified fraction of GPU memory usage.\n",
    "# plots = True - Generate and save plots of training and validation metrics, prediction examples, provide visual insights into model performance and learning progression.\n",
    "#                 D:/FlagDetectionDatasets/dataset\n",
    "            \n",
    "# model.train(data='dataset.yaml', epochs=100, imgsz=640, batch=16)\n"
   ]
  },
  {
   "cell_type": "code",
   "execution_count": null,
   "id": "ab349393-6c6f-4ec2-b978-d6bf49d973e5",
   "metadata": {
    "scrolled": true
   },
   "outputs": [],
   "source": [
    "# !ls {HOME}/runs/detect/train/\n",
    "\n",
    "## Translated: \n",
    "import os\n",
    "# replace with home directory or use os.path.expanduser('~')\n",
    "## home_directory = os.path.expanduser('~')\n",
    "#{HOME}\n",
    "# home_directory = os.path.expanduser('~')\n",
    "#directory_to_list = os.path.join(home_directory, 'runs', 'detect', 'train')\n",
    "directory_to_list = os.path.join(HOME, 'runs', 'detect', 'train')\n",
    "#model = YOLO(f'{HOME}/yolov8n.pt')\n",
    "# List the contents of the directory\n",
    "files = os.listdir(directory_to_list)\n",
    "for file in files:\n",
    "    print(file)\n"
   ]
  },
  {
   "cell_type": "code",
   "execution_count": null,
   "id": "a724d30b-1af8-40c2-926a-38ec576c2eaa",
   "metadata": {
    "scrolled": true
   },
   "outputs": [],
   "source": [
    "%cd {HOME}\n",
    "Image(filename=f'{HOME}/runs/detect/train/confusion_matrix.png', width=600)"
   ]
  },
  {
   "cell_type": "code",
   "execution_count": null,
   "id": "64202cb0-0f73-4517-a966-819ce80f6a2c",
   "metadata": {},
   "outputs": [],
   "source": [
    "%cd {HOME}\n",
    "Image(filename=f'{HOME}/runs/detect/train/confusion_matrix.png', width=600)"
   ]
  },
  {
   "cell_type": "code",
   "execution_count": null,
   "id": "dcc6e64b-a1e2-4194-9082-60da9c8b6abe",
   "metadata": {},
   "outputs": [],
   "source": [
    "%cd {HOME}\n",
    "Image(filename=f'{HOME}/runs/detect/train/val_batch0_pred.jpg', width=600)\n",
    "#Image(filename=f'{HOME}/runs/detect/train/val_batch0_pred.jpg', width=600)"
   ]
  },
  {
   "cell_type": "code",
   "execution_count": null,
   "id": "a2145d6b-6433-459d-a196-c8f8aada3d49",
   "metadata": {},
   "outputs": [],
   "source": [
    "%cd {HOME}\n",
    "# Image(filename=f'{HOME}/runs/detect/train/results.png', width=600)\n",
    "Image(filename=f'{HOME}/runs/detect/train/results.png', width=600)"
   ]
  },
  {
   "cell_type": "code",
   "execution_count": null,
   "id": "b7b2317b-9413-4662-9f81-2febf589dff6",
   "metadata": {},
   "outputs": [],
   "source": [
    "# Validate custom model\n",
    "%cd {HOME}\n",
    "\n",
    "#!yolo task=detect mode=val model={HOME}/runs/detect/train/weights/best.pt data={dataset.location}/data.yaml\n",
    "#!yolo task=detect mode=val model={HOME}/runs/detect/train11/weights/best.pt data={dataset.location}/dataset.yaml\n",
    "!yolo task=detect mode=val model={HOME}/runs/detect/train/weights/best.pt data=D:/FlagDetectionDatasets/dataset/dataset.yaml"
   ]
  },
  {
   "cell_type": "markdown",
   "id": "510da850-9f44-4427-8c6c-ec45ac3765a6",
   "metadata": {},
   "source": [
    "## inference with custom model \n"
   ]
  },
  {
   "cell_type": "code",
   "execution_count": null,
   "id": "544785ba-56e5-4212-b596-f06a099fe658",
   "metadata": {
    "scrolled": true
   },
   "outputs": [],
   "source": [
    "%cd {HOME}\n",
    "#D:/FlagDetectionDatasets/dataset/dataset.yaml instead of \n",
    "#!yolo task=detect mode=predict model={HOME}/runs/detect/train/weights/best.pt conf=0.25 source={dataset.location}/test/images save=True\n",
    "#!yolo task=detect mode=predict model={HOME}/runs/detect/train/weights/best.pt conf=0.25 source=D:/FlagDetectionDatasets/dataset/images/test save=True\n",
    "#D:\\FlagDetectionDatasets\\UnseenFlags\n",
    "#!yolo task=detect mode=predict model={HOME}/runs/detect/train/weights/best.pt conf=0.25 source=D:/FlagDetectionDatasets/UnseenFlags save=True\n",
    "#!yolo task=detect mode=predict model= {HOME}/runs/detect/train/weights/best.pt conf=0.25 source=D:/FlagDetectionDatasets/Downloaded_photos save=True\n",
    "#!yolo task=detect mode=predict model= {HOME}/runs/detect/train/weights/best.pt conf=0.25 source=D:\\FlagDetectionDatasets\\A_Composed_cutouts_bgs save=True\n",
    "#!yolo task=detect mode=predict model= {HOME}/runs/detect/train/weights/best.pt conf=0.25 source=D:\\FlagDetectionDatasets\\dataset\\images\\test\\Job_95_000342.PNG save=True\n",
    "#results = model(\"D:/FlagDetectionDatasets/dataset/images/test/Job_95_000342.PNG\")\n",
    "#!yolo task=detect mode=predict model= {HOME}/runs/detect/train/weights/best.pt conf=0.25 source=D:\\FlagDetectionDatasets\\Downloaded_photos_not_editied\\Beach_safety_026.jpg save=True\n",
    "#!yolo task=detect mode=predict model= {HOME}/runs/detect/train/weights/best.pt conf=0.25 source=D:\\FlagDetectionDatasets\\A_Composed_cutouts_bgs save=True\n",
    "#D:\\FlagDetectionDatasets\\dataset\\images\\test\n",
    "#!yolo task=detect mode=predict model= {HOME}/runs/detect/train/weights/best.pt conf=0.25 source=D:\\FlagDetectionDatasets\\dataset\\images\\test save=True\n",
    "#!yolo task=detect mode=predict model= {HOME}/runs/detect/train/weights/best.pt conf=0.25 source=D:\\FlagDetectionDatasets\\Downloaded_photos_not_editied\\Beach_safety_026.jpg save=True\n",
    "#!yolo task=detect mode=predict model= {HOME}/runs/detect/train/weights/best.pt conf=0.25 source=D:\\FlagDetectionDatasets\\A_Composed_cutouts_bgs\\Beach_safety_026_2.png save=True\n",
    "#!yolo task=detect mode=predict model= {HOME}/runs/detect/train/weights/best.pt conf=0.25 source=D:\\FlagDetectionDatasets\\A_Composed_cutouts_bgs\\Beach_safety_026_3.png save=True\n",
    "#!yolo task=detect mode=predict model= {HOME}/runs/detect/train/weights/best.pt conf=0.25 source=D:\\FlagDetectionDatasets\\A_Composed_cutouts_bgs\\Beach_safety_026_4.png save=True\n",
    "#!yolo task=detect mode=predict model= {HOME}/runs/detect/train/weights/best.pt conf=0.25 source=D:\\FlagDetectionDatasets\\A_Composed_cutouts_bgs\\Beach_safety_026_5.png save=True\n",
    "#!yolo task=detect mode=predict model= {HOME}/runs/detect/train/weights/best.pt conf=0.25 source=D:\\FlagDetectionDatasets\\A_Composed_cutouts_bgs\\Beach_safety_026_6.png save=True\n",
    "#!yolo task=detect mode=predict model= {HOME}/runs/detect/train/weights/best.pt conf=0.25 source=D:\\FlagDetectionDatasets\\A_Composed_cutouts_bgs\\Beach_safety_026_7.png save=True\n",
    "\n",
    "#!yolo task=detect mode=predict model={HOME}/yolo11n.pt source=D:\\FlagDetectionDatasets\\A_Composed_cutouts_bgs save=True\n",
    "\n"
   ]
  },
  {
   "cell_type": "code",
   "execution_count": null,
   "id": "0d8c25b7-31da-4c44-9202-9a4a59e27ff2",
   "metadata": {},
   "outputs": [],
   "source": [
    "import glob\n",
    "from IPython.display import Image, display\n",
    "\n",
    "# Define the base path where the folders are located\n",
    "# base_path = '/content/runs/detect/'\n",
    "%cd {HOME}\n",
    "base_path = 'runs/detect/'\n",
    "\n",
    "# List all directories that start with 'predict' in the base path\n",
    "subfolders = [os.path.join(base_path, d) for d in os.listdir(base_path) \n",
    "    if os.path.isdir(os.path.join(base_path, d)) and d.startswith('predict')]\n",
    "    \n",
    "# Find the latest folder by modification time\n",
    "latest_folder = max(subfolders, key=os.path.getmtime)\n",
    "print(latest_folder)\n",
    "\n",
    "# Get top 20 PNG files in the folder\n",
    "# image_paths = glob.glob(f'{latest_folder}/*.PNG')[:20]\n",
    "# print(image_paths)\n",
    "# Display each image\n",
    "# for image_path in image_paths:\n",
    "    # display(Image(filename=image_path, width=600))\n",
    "    # print(\"\\n\")\n",
    "\n",
    "## Get all .PNG files in the folder\n",
    "image_paths = glob.glob(f'{latest_folder}/*.PNG')\n",
    "# Initialize the index\n",
    "index = 0\n",
    "\n",
    "# Continue while there are images remaining in the list\n",
    "#while index < len(image_paths):\n",
    "    # Print the next 2 images\n",
    "    #for image_path in image_paths[index:index + 2]:\n",
    "       # display(Image(filename=image_path, width=600))\n",
    "        #print(\"\\n\")\n",
    "    \n",
    "    # Skip the next 20 images by incrementing the index\n",
    "    #index += 22  # Move to the next set (2 images + 20 to skip)\n",
    "\n",
    "##\n",
    "## # Check if latest_folder exists and is a directory\n",
    "if os.path.exists(latest_folder) and os.path.isdir(latest_folder):\n",
    "    # Find all .png files directly in latest_folder (no sub-folders)\n",
    "    # image_paths = glob.glob(os.path.join(latest_folder, '*.jpg'))\n",
    "    image_paths = glob.glob(os.path.join(latest_folder, '*.PNG'))\n",
    "    \n",
    "    # Check if any images were found\n",
    "    if image_paths:\n",
    "        # Get the top 10 images (or fewer if there are less than 10)\n",
    "        top_images = image_paths[:100]\n",
    "        \n",
    "        # Print the paths of the top 10 images\n",
    "        print(\"Top 10 images in the folder:\")\n",
    "        for image in top_images:\n",
    "            display(Image(filename=image_path, width=600))\n",
    "            print(image)\n",
    "            print(\"\\n\")\n",
    "    else:\n",
    "        print(f\"No .PNG files found in {latest_folder}\")\n",
    "else:\n",
    "     print(f\"The folder '{latest_folder}' does not exist or is not a directory.\")\n"
   ]
  },
  {
   "cell_type": "code",
   "execution_count": null,
   "id": "740985ec-5464-4dca-857e-fdb12f4dfbf6",
   "metadata": {},
   "outputs": [],
   "source": []
  }
 ],
 "metadata": {
  "kernelspec": {
   "display_name": "Python 3 (ipykernel)",
   "language": "python",
   "name": "python3"
  },
  "language_info": {
   "codemirror_mode": {
    "name": "ipython",
    "version": 3
   },
   "file_extension": ".py",
   "mimetype": "text/x-python",
   "name": "python",
   "nbconvert_exporter": "python",
   "pygments_lexer": "ipython3",
   "version": "3.8.19"
  }
 },
 "nbformat": 4,
 "nbformat_minor": 5
}
